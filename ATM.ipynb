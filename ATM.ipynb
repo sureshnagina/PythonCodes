{
 "cells": [
  {
   "cell_type": "markdown",
   "metadata": {},
   "source": [
    "#ATM Logic"
   ]
  },
  {
   "cell_type": "code",
   "execution_count": null,
   "metadata": {},
   "outputs": [
    {
     "name": "stdout",
     "output_type": "stream",
     "text": [
      "Welcome to ICICI Bank\n"
     ]
    }
   ],
   "source": [
    "print(\"Welcome to ICICI Bank\")\n",
    "PIN=1729\n",
    "UPIN=int(input(\"Enter Your PIN :\"))\n",
    "AC_Bal=8055\n",
    "if UPIN==PIN:\n",
    "    withdrawalAmount=int(input(\"Enter the amount to Withdraw from your Account: \"))\n",
    "    \n",
    "    if withdrawalAmount <= AC_Bal:\n",
    "      print (\"Your request to withdraw ₹\" ,withdrawalAmount ,\" is Getting processed\")\n",
    "    else:\n",
    "      print (\"withdrawal Amount ₹ \",withdrawalAmount,\" is Greater than Account Balance of  ₹\" , AC_Bal)\n",
    "else :\n",
    "    print(\" Your Password\" , UPIN ,\" is wrong , please try again\")\n",
    "                               "
   ]
  },
  {
   "cell_type": "code",
   "execution_count": null,
   "metadata": {},
   "outputs": [],
   "source": []
  },
  {
   "cell_type": "code",
   "execution_count": null,
   "metadata": {},
   "outputs": [],
   "source": []
  }
 ],
 "metadata": {
  "kernelspec": {
   "display_name": "Python 3",
   "language": "python",
   "name": "python3"
  },
  "language_info": {
   "codemirror_mode": {
    "name": "ipython",
    "version": 3
   },
   "file_extension": ".py",
   "mimetype": "text/x-python",
   "name": "python",
   "nbconvert_exporter": "python",
   "pygments_lexer": "ipython3",
   "version": "3.7.6"
  }
 },
 "nbformat": 4,
 "nbformat_minor": 4
}
